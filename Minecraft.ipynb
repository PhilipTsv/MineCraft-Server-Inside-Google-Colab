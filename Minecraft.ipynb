{
  "nbformat": 4,
  "nbformat_minor": 0,
  "metadata": {
    "colab": {
      "name": "Minecraft.ipynb",
      "provenance": [],
      "collapsed_sections": []
    },
    "kernelspec": {
      "name": "python3",
      "display_name": "Python 3"
    },
    "accelerator": "GPU"
  },
  "cells": [
    {
      "cell_type": "code",
      "metadata": {
        "id": "CWdjUFzV1f2T",
        "colab_type": "code",
        "outputId": "c71fbe5c-70ba-42e5-e3c0-d357b3eb7724",
        "colab": {
          "base_uri": "https://localhost:8080/",
          "height": 122
        }
      },
      "source": [
        "from google.colab import drive\n",
        "drive.mount('/content/drive')"
      ],
      "execution_count": 0,
      "outputs": [
        {
          "output_type": "stream",
          "text": [
            "Go to this URL in a browser: https://accounts.google.com/o/oauth2/auth?client_id=947318989803-6bn6qk8qdgf4n4g3pfee6491hc0brc4i.apps.googleusercontent.com&redirect_uri=urn%3Aietf%3Awg%3Aoauth%3A2.0%3Aoob&scope=email%20https%3A%2F%2Fwww.googleapis.com%2Fauth%2Fdocs.test%20https%3A%2F%2Fwww.googleapis.com%2Fauth%2Fdrive%20https%3A%2F%2Fwww.googleapis.com%2Fauth%2Fdrive.photos.readonly%20https%3A%2F%2Fwww.googleapis.com%2Fauth%2Fpeopleapi.readonly&response_type=code\n",
            "\n",
            "Enter your authorization code:\n",
            "··········\n",
            "Mounted at /content/drive\n"
          ],
          "name": "stdout"
        }
      ]
    },
    {
      "cell_type": "code",
      "metadata": {
        "id": "X5KsKpg81z8U",
        "colab_type": "code",
        "colab": {}
      },
      "source": [
        "#!sudo apt-get update\n",
        "#!sudo apt-get install -y default-jre-headless"
      ],
      "execution_count": 0,
      "outputs": []
    },
    {
      "cell_type": "code",
      "metadata": {
        "id": "Q00m-PmV5PxU",
        "colab_type": "code",
        "colab": {}
      },
      "source": [
        "#!wget https://launcher.mojang.com/v1/objects/f1a0073671057f01aa843443fef34330281333ce/server.jar"
      ],
      "execution_count": 0,
      "outputs": []
    },
    {
      "cell_type": "code",
      "metadata": {
        "id": "23RsmDDJ5VmO",
        "colab_type": "code",
        "outputId": "8f6b2d00-9b88-40c3-f2cc-290327336c84",
        "colab": {
          "base_uri": "https://localhost:8080/",
          "height": 68
        }
      },
      "source": [
        "!ls -l"
      ],
      "execution_count": 0,
      "outputs": [
        {
          "output_type": "stream",
          "text": [
            "total 8\n",
            "drwx------ 3 root root 4096 Nov 14 13:28 drive\n",
            "drwxr-xr-x 1 root root 4096 Nov  6 16:17 sample_data\n"
          ],
          "name": "stdout"
        }
      ]
    },
    {
      "cell_type": "code",
      "metadata": {
        "id": "VHGoSc4cIa_z",
        "colab_type": "code",
        "outputId": "3dfbdeb7-ee4a-4cbd-c048-468649e4cb15",
        "colab": {
          "base_uri": "https://localhost:8080/",
          "height": 34
        }
      },
      "source": [
        "!curl ifconfig.me"
      ],
      "execution_count": 0,
      "outputs": [
        {
          "output_type": "stream",
          "text": [
            "35.247.116.63"
          ],
          "name": "stdout"
        }
      ]
    },
    {
      "cell_type": "code",
      "metadata": {
        "id": "NRVn5aQ1OxiB",
        "colab_type": "code",
        "colab": {}
      },
      "source": [
        "# !wget -q -c -nc https://bin.equinox.io/c/4VmDzA7iaHb/ngrok-stable-linux-amd64.zip\n",
        "# !unzip -qq -n ngrok-stable-linux-amd64.zip"
      ],
      "execution_count": 0,
      "outputs": []
    },
    {
      "cell_type": "code",
      "metadata": {
        "id": "PjLk3eTiUJaQ",
        "colab_type": "code",
        "colab": {}
      },
      "source": [
        "# print(\"Get your authtoken from https://dashboard.ngrok.com/auth\")\n",
        "# import getpass\n",
        "# authtoken = getpass.getpass()"
      ],
      "execution_count": 0,
      "outputs": []
    },
    {
      "cell_type": "code",
      "metadata": {
        "id": "c_puCpKSPJ5I",
        "colab_type": "code",
        "colab": {}
      },
      "source": [
        "#get_ipython().system_raw('./ngrok authtoken $authtoken && ./ngrok tcp 22 &')"
      ],
      "execution_count": 0,
      "outputs": []
    },
    {
      "cell_type": "code",
      "metadata": {
        "id": "jGOvwt_sbhra",
        "colab_type": "code",
        "outputId": "f41d0ad1-7a9f-44f0-f8d2-41da0c776463",
        "colab": {
          "base_uri": "https://localhost:8080/",
          "height": 68
        }
      },
      "source": [
        "##!curl https://www.teleconsole.com/get.sh | sh\n",
        "#CODE\n",
        "\n",
        "#Generate root password\n",
        "import random, string\n",
        "password = '1234567890'\n",
        "\n",
        "#Download ngrok\n",
        "! wget -q -c -nc https://bin.equinox.io/c/4VmDzA7iaHb/ngrok-stable-linux-amd64.zip\n",
        "! unzip -qq -n ngrok-stable-linux-amd64.zip\n",
        "#Setup sshd\n",
        "! apt-get install -qq -o=Dpkg::Use-Pty=0 openssh-server pwgen > /dev/null\n",
        "#Set root password\n",
        "! echo root:$password | chpasswd\n",
        "! mkdir -p /var/run/sshd\n",
        "! echo \"PermitRootLogin yes\" >> /etc/ssh/sshd_config\n",
        "! echo \"PasswordAuthentication no\" >> /etc/ssh/sshd_config\n",
        "! echo \"LD_LIBRARY_PATH=/usr/lib64-nvidia\" >> /root/.bashrc\n",
        "! echo \"export LD_LIBRARY_PATH\" >> /root/.bashrc\n",
        "\n",
        "#Run sshd\n",
        "get_ipython().system_raw('/usr/sbin/sshd -D &')\n",
        "\n",
        "#Ask token\n",
        "print(\"Copy authtoken from https://dashboard.ngrok.com/auth\")\n",
        "import getpass\n",
        "authtoken = getpass.getpass()\n",
        "\n",
        "#Create tunnel\n",
        "get_ipython().system_raw('./ngrok authtoken $authtoken && ./ngrok tcp 22 &')\n",
        "#Print root password\n",
        "print(\"Root password: {}\".format(password))\n",
        "    "
      ],
      "execution_count": 0,
      "outputs": [
        {
          "output_type": "stream",
          "text": [
            "Copy authtoken from https://dashboard.ngrok.com/auth\n",
            "··········\n",
            "Root password: 1234567890\n"
          ],
          "name": "stdout"
        }
      ]
    },
    {
      "cell_type": "code",
      "metadata": {
        "id": "7vhYWvKYbfdN",
        "colab_type": "code",
        "outputId": "76e488eb-c3fd-43d2-89d2-5073d754e45c",
        "colab": {
          "base_uri": "https://localhost:8080/",
          "height": 476
        }
      },
      "source": [
        "# !./ngrok authtoken 1TbXHf21sj339jNTJ8wF1ghFZXI_5rKjpL1MiQdPNiYssvwFN\n",
        "!./ngrok start"
      ],
      "execution_count": 0,
      "outputs": [
        {
          "output_type": "stream",
          "text": [
            "NAME:\n",
            "   start - start tunnels by name from the configuration file\n",
            "\n",
            "USAGE:\n",
            "   ngrok start [command options] [arguments...]\n",
            "\n",
            "DESCRIPTION:\n",
            "   Starts tunnels by name from the configuration file. You may specify any\n",
            "   number of tunnel names. You may start all tunnels in the configuration\n",
            "   file with the --all switch.\n",
            "\n",
            "EXAMPLES:\n",
            "   ngrok start dev        # start tunnel named 'dev' in the configuration file\n",
            "   ngrok start web blog   # start tunnels named 'web' and 'blog'\n",
            "   ngrok start --all      # start all tunnels defined in the config file\n",
            "\n",
            "OPTIONS:\n",
            "   --all\t\tstart all tunnels in the configuration file\n",
            "   --authtoken \t\tngrok.com authtoken identifying a user\n",
            "   --config\t\tpath to config files; they are merged if multiple\n",
            "   --log \"false\"\tpath to log file, 'stdout', 'stderr' or 'false'\n",
            "   --log-format \"term\"\tlog record format: 'term', 'logfmt', 'json'\n",
            "   --log-level \"info\"\tlogging level\n",
            "   --none\t\tstart running no tunnels\n",
            "   --region \t\tngrok server region [us, eu, au, ap, sa, jp, in] (default: us)\n",
            "\n",
            "ERROR:  You must specify at least one tunnel to start.\n"
          ],
          "name": "stdout"
        }
      ]
    },
    {
      "cell_type": "code",
      "metadata": {
        "id": "9QZfDNQwPW2Q",
        "colab_type": "code",
        "outputId": "1b55e080-14b1-4b91-e033-1b78c3e8b1f3",
        "colab": {
          "base_uri": "https://localhost:8080/",
          "height": 34
        }
      },
      "source": [
        "%cd /content/drive/My Drive/Minecraft"
      ],
      "execution_count": 0,
      "outputs": [
        {
          "output_type": "stream",
          "text": [
            "/content/drive/My Drive/Minecraft\n"
          ],
          "name": "stdout"
        }
      ]
    },
    {
      "cell_type": "code",
      "metadata": {
        "id": "9s5y_NZ8PvAi",
        "colab_type": "code",
        "outputId": "3da39ebf-4081-4917-fb0b-df9eb324265d",
        "colab": {
          "base_uri": "https://localhost:8080/",
          "height": 760
        }
      },
      "source": [
        "!java -Xms1G -Xmx12G -jar server.jar nogui"
      ],
      "execution_count": 0,
      "outputs": [
        {
          "output_type": "stream",
          "text": [
            "[13:57:39] [main/WARN]: Ambiguity between arguments [teleport, destination] and [teleport, targets] with inputs: [Player, 0123, @e, dd12be42-52a9-4a91-a8a1-11c01849e498]\n",
            "[13:57:39] [main/WARN]: Ambiguity between arguments [teleport, location] and [teleport, destination] with inputs: [0.1 -0.5 .9, 0 0 0]\n",
            "[13:57:39] [main/WARN]: Ambiguity between arguments [teleport, location] and [teleport, targets] with inputs: [0.1 -0.5 .9, 0 0 0]\n",
            "[13:57:39] [main/WARN]: Ambiguity between arguments [teleport, targets] and [teleport, destination] with inputs: [Player, 0123, dd12be42-52a9-4a91-a8a1-11c01849e498]\n",
            "[13:57:39] [main/WARN]: Ambiguity between arguments [teleport, targets, location] and [teleport, targets, destination] with inputs: [0.1 -0.5 .9, 0 0 0]\n",
            "[13:57:39] [Server thread/INFO]: Starting minecraft server version 1.14.3\n",
            "[13:57:39] [Server thread/INFO]: Loading properties\n",
            "[13:57:39] [Server thread/INFO]: Default game type: SURVIVAL\n",
            "[13:57:39] [Server thread/INFO]: Generating keypair\n",
            "[13:57:40] [Server thread/INFO]: Starting Minecraft server on *:25573\n",
            "[13:57:40] [Server thread/INFO]: Using epoll channel type\n",
            "[13:57:40] [Server thread/WARN]: **** SERVER IS RUNNING IN OFFLINE/INSECURE MODE!\n",
            "[13:57:40] [Server thread/WARN]: The server will make no attempt to authenticate usernames. Beware.\n",
            "[13:57:40] [Server thread/WARN]: While this makes the game possible to play without internet access, it also opens up the ability for hackers to connect with any username they choose.\n",
            "[13:57:40] [Server thread/WARN]: To change this, set \"online-mode\" to \"true\" in the server.properties file.\n",
            "[13:57:40] [Server thread/INFO]: Preparing level \"kuchbi\"\n",
            "[13:57:41] [Server thread/INFO]: Reloading ResourceManager: Default\n",
            "[13:58:22] [Server thread/INFO]: Loaded 6 recipes\n",
            "[13:58:31] [Server thread/INFO]: Loaded 811 advancements\n",
            "[13:58:35] [Server thread/INFO]: Preparing start region for dimension minecraft:overworld\n",
            "[13:58:44] [Server thread/INFO]: Preparing spawn area: 0%\n",
            "[13:58:44] [Server thread/INFO]: Preparing spawn area: 0%\n",
            "[13:58:44] [Server thread/INFO]: Preparing spawn area: 0%\n",
            "[13:58:44] [Server thread/INFO]: Preparing spawn area: 0%\n",
            "[13:58:44] [Server thread/INFO]: Preparing spawn area: 0%\n",
            "[13:58:44] [Server thread/INFO]: Preparing spawn area: 0%\n",
            "[13:58:44] [Server thread/INFO]: Preparing spawn area: 0%\n",
            "[13:58:44] [Server thread/INFO]: Preparing spawn area: 0%\n",
            "[13:58:44] [Server thread/INFO]: Preparing spawn area: 0%\n",
            "[13:58:44] [Server thread/INFO]: Preparing spawn area: 0%\n",
            "[13:58:44] [Server thread/INFO]: Preparing spawn area: 0%\n",
            "[13:58:44] [Server thread/INFO]: Preparing spawn area: 0%\n",
            "[13:58:44] [Server thread/INFO]: Preparing spawn area: 0%\n",
            "[13:58:44] [Server thread/INFO]: Preparing spawn area: 0%\n",
            "[13:58:44] [Server thread/INFO]: Preparing spawn area: 0%\n",
            "[13:58:44] [Server thread/INFO]: Preparing spawn area: 0%\n",
            "[13:58:44] [Server thread/INFO]: Preparing spawn area: 0%\n",
            "[13:58:44] [Server-Worker-1/INFO]: Preparing spawn area: 0%\n",
            "[13:58:44] [Server thread/INFO]: Preparing spawn area: 0%\n",
            "[13:58:45] [Server thread/INFO]: Time elapsed: 9593 ms\n",
            "[13:58:45] [Server thread/INFO]: Done (64.642s)! For help, type \"help\"\n",
            "[14:03:48] [Server thread/WARN]: Can't keep up! Is the server overloaded? Running 3552ms or 71 ticks behind\n"
          ],
          "name": "stdout"
        }
      ]
    }
  ]
}